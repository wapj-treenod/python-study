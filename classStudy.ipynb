{
 "cells": [
  {
   "cell_type": "code",
   "execution_count": 11,
   "metadata": {
    "collapsed": true
   },
   "outputs": [
    {
     "name": "stdout",
     "output_type": "stream",
     "text": [
      "멍멍\n"
     ]
    }
   ],
   "source": [
    "\"\"\"\n",
    "클래스 테스트\n",
    "\"\"\"\n",
    "\n",
    "class dog:\n",
    "    name = \"\"\n",
    "    \n",
    "    def 짖음(self):\n",
    "        return (\"멍멍\")\n",
    "    \n",
    "    \n",
    "        \n",
    "    def __str__(self):\n",
    "        return self.name\n",
    "        \n",
    "d = dog()\n",
    "d.name = \"멍멍이\"\n",
    "\n",
    "print(d.짖음())"
   ]
  },
  {
   "cell_type": "code",
   "execution_count": null,
   "metadata": {},
   "outputs": [],
   "source": [
    ""
   ]
  }
 ],
 "metadata": {
  "kernelspec": {
   "display_name": "Python 2",
   "language": "python",
   "name": "python2"
  },
  "language_info": {
   "codemirror_mode": {
    "name": "ipython",
    "version": 2.0
   },
   "file_extension": ".py",
   "mimetype": "text/x-python",
   "name": "python",
   "nbconvert_exporter": "python",
   "pygments_lexer": "ipython2",
   "version": "2.7.6"
  }
 },
 "nbformat": 4,
 "nbformat_minor": 0
}