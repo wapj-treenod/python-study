{
 "cells": [
  {
   "cell_type": "markdown",
   "metadata": {},
   "source": [
    "# 야구게임을 만들어 보자"
   ]
  },
  {
   "cell_type": "code",
   "execution_count": null,
   "metadata": {
    "collapsed": false
   },
   "outputs": [],
   "source": [
    "# 0~9 사이의 랜덤한 숫자를 만드는 코드\n",
    "from random import random\n",
    "from math import floor\n",
    "print(floor(random() * 10))"
   ]
  },
  {
   "cell_type": "code",
   "execution_count": null,
   "metadata": {
    "collapsed": false
   },
   "outputs": [],
   "source": [
    "from random import random\n",
    "from math import floor\n",
    "\n",
    "\n",
    "def yagu_maker():\n",
    "    # 중복없는 3개의 숫자 만들기\n",
    "    l = []\n",
    "    while len(l) < 3:\n",
    "        r = str(floor(random() * 10))\n",
    "        if r not in l:\n",
    "            l.append(r)\n",
    "\n",
    "    _yagu = \"\".join(l)\n",
    "    return _yagu\n",
    "\n",
    "\n",
    "def yagu_checker(my_yagu, yagu):\n",
    "    \"\"\"\n",
    "    내가 입력한 my_yagu와 컴퓨터로 받은 yagu를 체크한 다음\n",
    "    볼/스크라이크를 표시해줌\n",
    "    인덱스와 숫자도 맞으면 스크라이크 숫자만 맞으면 볼\n",
    "    \"\"\"\n",
    "    strike = 0\n",
    "    ball = 0\n",
    "    # 같은 자리에 있으면 스크라이크로 체크\n",
    "    for idx, val in enumerate(yagu):\n",
    "        # print(idx + 1, val)\n",
    "        if my_yagu[idx] == val:\n",
    "            strike += 1\n",
    "\n",
    "    # 있으면 볼\n",
    "    for my in my_yagu:\n",
    "        if my in yagu:\n",
    "            ball += 1\n",
    "\n",
    "    result = (strike, ball - strike)\n",
    "\n",
    "    return result\n",
    "\n",
    "\n",
    "def play_game():\n",
    "    print(\"============================\")\n",
    "    print(\"야구게임을 시작합니다\")\n",
    "    print(\"============================\")\n",
    "    yagu = yagu_maker()\n",
    "    while True:\n",
    "        my_yagu = input(\"숫자 3개를 입력하세요 : \")\n",
    "        if len(my_yagu) < 3:\n",
    "            print(\"잘못된 숫자입니다 다시 입력하세요.\")\n",
    "            continue\n",
    "\n",
    "        result = yagu_checker(my_yagu, yagu)\n",
    "        if result[0] == 3:\n",
    "            print(\"당신이 이겼습니다. you win\")\n",
    "            exit(0)\n",
    "        else:\n",
    "            print(\"%s스크라이크 %s볼\" % (result[0], result[1]))\n",
    "\n",
    "if __name__ == \"__main__\":\n",
    "    play_game()\n"
   ]
  },
  {
   "cell_type": "code",
   "execution_count": null,
   "metadata": {
    "collapsed": true
   },
   "outputs": [],
   "source": []
  }
 ],
 "metadata": {
  "kernelspec": {
   "display_name": "Python 3",
   "language": "python",
   "name": "python3"
  },
  "language_info": {
   "codemirror_mode": {
    "name": "ipython",
    "version": 3
   },
   "file_extension": ".py",
   "mimetype": "text/x-python",
   "name": "python",
   "nbconvert_exporter": "python",
   "pygments_lexer": "ipython3",
   "version": "3.5.0"
  }
 },
 "nbformat": 4,
 "nbformat_minor": 0
}
