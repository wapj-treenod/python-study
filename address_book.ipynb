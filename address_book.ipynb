{
 "cells": [
  {
   "cell_type": "code",
   "execution_count": null,
   "metadata": {
    "collapsed": true
   },
   "outputs": [],
   "source": [
    "class AddressBook:\n",
    "    \"\"\"\n",
    "    아래에 있는 Address는 잘못된 코드입니다.\n",
    "    무엇이 잘못된 것입니다\n",
    "    왜 잘못 됐는지 생각해보세요\n",
    "    \"\"\"\n",
    "    Address = None # 아래에 있는 주소가 들어갑니다\n",
    "    Addresses = [] # 주소록에는 주소들이 들어가기 때문에 리스트를 만들어주어야합니다.\n",
    "\n",
    "    def add(self, address):\n",
    "        pass\n",
    "    \n",
    "\n",
    "    def modify(self):\n",
    "        pass\n",
    "\n",
    "    def delete(self):\n",
    "        pass\n",
    "\n",
    "    def search(self):\n",
    "        pass\n",
    "\n",
    "\n",
    "\n",
    "class Address:\n",
    "    # 주소의 클래스\n",
    "    family_name = None\n",
    "    name = None\n",
    "    phone = None\n",
    "    email = None\n",
    "    nick = None\n",
    "    team = None\n",
    "    age = 0\n",
    "\n",
    "    def __init__(self, name=\"바보야 이름을 적으라고\"):\n",
    "        # print(\"요녀석은 인스턴스를 만들때 실행됩니다.\")\n",
    "        self.name = name\n",
    "\n",
    "    def __str__(self):\n",
    "        return \"이름 : %s | 닉네임 : %s | 전화 : %s\\n\" % (self.name, self.nick, self.phone)\n",
    "\n",
    "\n"
   ]
  }
 ],
 "metadata": {
  "kernelspec": {
   "display_name": "Python 3",
   "language": "python",
   "name": "python3"
  },
  "language_info": {
   "codemirror_mode": {
    "name": "ipython",
    "version": 3
   },
   "file_extension": ".py",
   "mimetype": "text/x-python",
   "name": "python",
   "nbconvert_exporter": "python",
   "pygments_lexer": "ipython3",
   "version": "3.5.1"
  }
 },
 "nbformat": 4,
 "nbformat_minor": 0
}
